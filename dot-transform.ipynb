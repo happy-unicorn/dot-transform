{
 "cells": [
  {
   "cell_type": "code",
   "execution_count": 38,
   "metadata": {},
   "outputs": [],
   "source": [
    "import numpy as np\n",
    "import time\n",
    "from matplotlib import pyplot as plt\n",
    "import cv2\n",
    "from skimage import exposure\n",
    "from IPython.display import HTML\n",
    "from IPython.display import clear_output"
   ]
  },
  {
   "cell_type": "code",
   "execution_count": 2,
   "metadata": {},
   "outputs": [],
   "source": [
    "INPUT = 'data/'\n",
    "DOT_DICTIONARY = {\n",
    "    0: '#',\n",
    "    1: '%',\n",
    "    2: '*',\n",
    "    3: '+',\n",
    "    4: 'o',\n",
    "    5: '|',\n",
    "    6: ';',\n",
    "    7: '^',\n",
    "    8: '.',\n",
    "    9: ' ',\n",
    "}"
   ]
  },
  {
   "cell_type": "code",
   "execution_count": 45,
   "metadata": {},
   "outputs": [],
   "source": [
    "def get_array(image, cell):\n",
    "    height, width = image.shape\n",
    "    shape_by_height, shape_by_width = round(height / cell), round(width / cell)\n",
    "    resized_image = cv2.resize(image, (shape_by_width * cell, shape_by_height * cell))\n",
    "    brightness_array = np.empty(shape=(shape_by_height, shape_by_width))\n",
    "    for i in range(shape_by_height):\n",
    "        for j in range(shape_by_width):\n",
    "            brightness_array[i][j] = np.mean(resized_image[i * cell:i * cell + cell, j * cell:j * cell + cell])\n",
    "    return brightness_array\n",
    "\n",
    "\n",
    "def get_array_easy_way(image, cell):\n",
    "    height, width = image.shape\n",
    "    shape_by_height, shape_by_width = round(height / cell), round(width / cell)\n",
    "    return cv2.resize(image, (shape_by_width, shape_by_height))\n",
    "  \n",
    "    \n",
    "def equalize(array):\n",
    "    return exposure.equalize_hist(array)\n",
    "\n",
    "\n",
    "def normalize(array, new_min, new_max): \n",
    "    return new_min + (new_max - new_min) * (array - array.min()) / (array.max() - array.min()) \n",
    "    \n",
    "    \n",
    "def rounded(array):\n",
    "    return array.round().astype('int')\n",
    "    \n",
    "        \n",
    "def image_read(filename):\n",
    "    return cv2.imread(INPUT + filename)\n",
    "\n",
    "\n",
    "def gif_read(filename):\n",
    "    return cv2.VideoCapture(INPUT + filename) \n",
    "    \n",
    "        \n",
    "def image_transform(image, cell, shades):\n",
    "    grayscale_image = cv2.cvtColor(image, cv2.COLOR_BGR2GRAY)\n",
    "    brightness_array = get_array(grayscale_image, cell)\n",
    "    equalize_array = equalize(brightness_array)\n",
    "    normalized_array = normalize(equalize_array, 0, shades - 1)\n",
    "    rounded_array = rounded(normalized_array)\n",
    "    return rounded_array \n",
    "\n",
    "\n",
    "def dot_transform(image, dot_dictionary):\n",
    "    return '\\n'.join([''.join([dot_dictionary[shade] for shade in row]) for row in image])\n",
    "\n",
    "\n",
    "def to_html(text):\n",
    "    return HTML(f'<pre style=\"font-family: monospace; line-height: 10px;\">{text}</pre>')\n",
    "\n",
    "\n",
    "def gif_transform(filename, cell, shades, dictionary):\n",
    "    gif = gif_read(filename) \n",
    "    gif_array = []\n",
    "    while (gif.isOpened()): \n",
    "        _, frame = gif.read()\n",
    "        if frame is None:\n",
    "            break\n",
    "        gif_array.append(dot_transform(image_transform(frame, cell, shades), dictionary))\n",
    "    return gif_array\n",
    "    \n",
    "\n",
    "def show_image(image):\n",
    "    plt.figure(figsize=(40,40))\n",
    "    plt.imshow(image, cmap='gray')"
   ]
  },
  {
   "cell_type": "code",
   "execution_count": 24,
   "metadata": {},
   "outputs": [
    {
     "data": {
      "text/html": [
       "<pre style=\"font-family: monospace; line-height: 10px;\">+++++++++++. .. ....;....^^^..;^.^.^.;.|ooooooooooooooo|||||||||\n",
       "++++++++++^. .. ....;...^^;. ^^;^.^..^^.ooooooooooooo|||||||||||\n",
       "+++++++++o.  .. ....;...^.^  ^^.;.^.^.^.^oooooooo|;||||||||||||;\n",
       "+++++++++;.  .......;...^^.  ^^..^.^^.;..oo|oo|||;^^||||||||||;;\n",
       "+++++++++^. ........;..^^^   .^^ ^.^.^^^.^|||||||^^^;;;||||||;;;\n",
       "++++++++o^. ........;..^^.  .^^^ .|^^^.|.^o||||||;^^^^^^;||;;;;;\n",
       "++++++++o.  ........;..^^..^..^^ ..^^^^;..;||||||||^^^^^^|;;;;;;\n",
       "+++++++oo.  ........|.^^. .. .^..^^|+;;^^.^||||||||^^^^^^;;;;;;;\n",
       "+++++++oo.  ........|.;^^;|; .^..^o+^;;^^ ^||;|||||^^^^^^;;;;;;^\n",
       "o++++++oo.  ........||oooo;...^. .^^^^;^; .||||||||;^^^^;;;;;^^^\n",
       "oooooo+o|.  ........;;^.^..  .^     .;;.|..|||;|||;;;^^;;;;;^^^^\n",
       "oooooooo|.   . .....;^^^..   .^   ^  ;|.|..|||;|;;;;;;;;;;;;^^^^\n",
       "oooooooo|.   . ......;...    ..   .  .+.|. |||;;;;;;;;;;;;;;^^^^\n",
       "ooo|oooo|..  . ..^...|.      ^        o.|. ^;;;;;;;;;;;;;;;;^^^^\n",
       "|||||oooo..  . ...^..^^      .        o.o...;;;;;;;;;;;^^^;^^^^^\n",
       "|||||o||o... .  ..^..^^      .        +^%..^.;;;;;;;;;^^^^^^^^^^\n",
       "||||o|o|o^........^...^^    .        ^o;+^.|^^;;;;;;;^^^^^^^^^^;\n",
       "|||||ooo|^.........;..^..   .   .    o|%+^.^;;;;;;;;^^^^^^^^^;;;\n",
       "|||oooooo^.........^^..^^ ..   .    .%*#+^^.;;^^;^^^^^^^^^^;;;;;\n",
       "||ooooooo^..........;..^..  ..      o###o;;.^^^^^^^^^^^^^^;;;;;;\n",
       "|o|||oooo^^.........^;..^.^   ..   .%%%o;^;;;;^^^^^^^^^^^;;;;;;;\n",
       "oo|;;|oo|^;....^.....^^.;^...    ..^^^^^^;;;^^^^^^^^^^^^^;;;;;;;\n",
       "oo|;|ooo;||...........;^.+|^.^;^..^^^^^^^;^^^^^^^^^^^^^^;;|;;;;;\n",
       "ooooooooooo^^^..^.;....;^^#*o;o+;;^^^^^^^;;;;;;;;;;^^^^;;|||||;;\n",
       "ooooooooooo|^|^..^^;..^.;^;o+*##;^^^^^^^;||oo;;;;;;;;;;|||||||||\n",
       "oooooooooooo;||;^^^|^.^o|+|o;;;;;^^^;^^;+*****o|||;;;|||||||||||\n",
       "oooooooooo|||;||||||||||;..^^^;;;;;;;|+********o|||||||||||||||o\n",
       "ooooooooo||||||;;|||||;;^.        . ;***********o||||||||||||||o\n",
       "ooooooooo||||;;;;;;;;;;;;.   .^.   .^+********%*+|||||||||||||oo\n",
       "ooooooooo|||||;;;;;;;;;|^^^^^^;||o+**************+||||||||||oooo\n",
       "oooooooooo|||;;;;;;;;;;;***%%*********************+o||||||oooooo\n",
       "o+oooooooo||;^^;;;;;;;;+%***************************+||||oooooo+\n",
       "+oooooooo|;;;^;||||||;^******************************+ooooooo+++\n",
       "++o|;|ooo;^^;|||o|||;^o********************************oooo+++++\n",
       "+o|;;;;||;;;|||ooo||^;*********************************+oo++++++\n",
       "+|;;;;;;;;;|||ooooo^;**%********************************++++++++\n",
       "+|;;;;;;|||||ooooo;;*%****%*****************************++++++++\n",
       "+o|;;;;|||||ooooo|;*%%********%%************************++++++++\n",
       "+o|;;;|||||oooooo;+%%%%%%%%%%%%%%%***********%***********+++++++\n",
       "ooo||||||oooooo+;+%%%%%%%%%%%%%%%%********%%%%***********+++++++\n",
       "oooooooooooooo+|+%###%%%%%%%%%%%****%%********%***********++++++\n",
       "ooooooooooooo+++####%%%%%%%%%%%%%%**%%********%*%%********++++++\n",
       "ooooooooooo+++*####%%%%%%%#%%%%%%%%%**********%****%%****%++++++\n",
       "++++oooooo++++%#####%%#%%%##%%%%%%%%%%%%%%%***%***%%%%*%%%++++++\n",
       "++++++++++++++%######%#####%#%%%%%%%%%%%%%%%**%*****%%%%%%*+++++\n",
       "++++++++++++++*########%%###%#%%##%%%%%%%%%%%%%%%%**%%%%%%%+++++\n",
       "+++++++++++++++%########%%#####%##%%%%%%%%%%%%%%%%****%%%%%+++++\n",
       "++++++++++++++++#################%%%%%%%%%%%%%%%%%%%**%%%%%*++++\n",
       "+++++++++++++++o%#################%%%%%%%%%%%%%%%%%%%%%%%%%*++++\n",
       "+++++++++++++++++###################%%%%#%%%%%%%%%%%%%%%%%%%++++\n",
       "+++++++++++++++*+%######################%%#%%%%%%%%%%%%%%%%#++++\n",
       "++++++++++++++**+o#########################%%%%%%%%%%%%%%%%%++++</pre>"
      ],
      "text/plain": [
       "<IPython.core.display.HTML object>"
      ]
     },
     "execution_count": 24,
     "metadata": {},
     "output_type": "execute_result"
    }
   ],
   "source": [
    "to_html(dot_transform(image_transform(image_read('anime.jpg'), 8, 10), DOT_DICTIONARY))"
   ]
  },
  {
   "cell_type": "code",
   "execution_count": 47,
   "metadata": {},
   "outputs": [
    {
     "data": {
      "text/html": [
       "<pre style=\"font-family: monospace; line-height: 10px;\">^^..  .....^^..  ..^;||oooooooooooo||||||||;||;;;;;;;;^^^^^;;;;;;;|ooo+***%%%%%%****+++ooo+++****%\n",
       "^^..  .....^^..   .^;||ooooooooooooo|||||;|;||;;;;;;;;^^^^^;;;;;;;|ooo+***%%%%%%****+++ooo+++*****\n",
       "^^..  ....^^^..   .^;||oooooooooooooo|||||;||||;;;;;;;^^^^^;;;;;;|||o++***%%%%%%****+++ooo+++*****\n",
       "^^..  ....^^^..   .^;||ooooooooooooooo|||;;|;||;;;;;;;^^^^^;;;;;;|;|o++***%%%%%*****+++ooo+++*****\n",
       "^^..  ....^^^. ....^;||ooooooooooooooo|o|;|;;|||;;;;;;;^^^^;;;;;;;;oo++***%%%%%*%***+++ooo+++*****\n",
       "^^... .....^^  ..^^;|oooooo+ooooooo|||||;;^^;|;;^.^;;;^^^^;;;;;;;;|oo++*****%%%*%***+++ooo+++*****\n",
       "^^.........^^.   ..^^^;|o++++oooo||||^^;^^^^;;||o;^;|;^.^^;;;;;;;;|oo+++**%%%%*%%***+++ooo+++*****\n",
       "^^.........^^..      ...^^^|o|;;;|||;;|||^^^o+|^;o^;oo;^;o|;;;;;;||ooo+***%%%**%%***+++ooo+++*****\n",
       "^^.........^^..         .^^^^^^^||;o|ooo|;..+*o.^|^;o+|;o*+o|;;;||||o++***%%%*%%%***+++++++++*****\n",
       "^^..  .........         ..^^^^;||;;;|;;;|;^.o*o.^^^^|+;^o+o++||||||oo++***%%*%%%%****++++++++*****\n",
       "^^..   ....^^..          ...^;|||;|^..^|o||^;+;^.^.^|+|;;o;+*+|||||oo++***%*%%%%%%****++++++******\n",
       "^^^.   ....^^..          ..^|;||o|;^^;+%%#%o;;^^.^^^|o|;|o|+%+^^oooo+o++****%%%%%%%***************\n",
       "^^^.   .....^...         .^;|||oo|;^^+*****%+;^.^^^^|oooo+o+%+;;+*+ooo++*+*%%%%%%%%%%**********%%%\n",
       "^^^.   .....^...        ^^;|||oo++o|++;;*%***+^ .^.^;|++++o+*+oo++o++++++****%%%%%%%%%%%%%%%%%%%%%\n",
       "^^..   .........       .;;;^|o|^^;;o*^ o%%%*o%| .^..^o++++oo+++**++++++o+**++****%%%%%%%%%%%%%%%%%\n",
       "^^^.   .....^...     .;||;;|o^.^;;;o*^ +***+o**o|;^|;o+o+oo+*#####*o++o+++*************%%%%%###%%%\n",
       "^^^.   .....^...    .;||;;oo^^^^;|||o+o+++o++*+oo;^||o+o+++%###%*#%+oo+++ooo++++++++***%%%%%%###%%\n",
       "^^^.   .....^^..  .;|o|;;|o|^^^;|;;|||+++++o++o+o^^^;oo++*%%##%%**%+o+**++++++++*+****%%%%%%%%##%%\n",
       "^^^.   ......... .;ooo||o+|^^^^^^;|;|o++o|oo++oo|^;|oo++++*%%#%#*o*+*****+++++++*****%%%%%%%%%%%%%\n",
       "^^^.   ..........^oooooo||;....;;;;|oo|^..|+*o^^|^^|+***+++++**%+o*******+**++++*****%%%%%%%%%%***\n",
       "^^^..  .........;oo|;ooo;^..  .^.^|o|;^.^;;++;  .|oo+++++o|||ooooo%*+++*****+++++**%%%%%%%%%*****%\n",
       "^^^..  .....^^.^|oo|o+o;|;^^  .^^|oo;^..|o+**|.  o*o++++o^^;;;;|||oo+++++*+++++++**************%%%\n",
       "^^^..  .....^^^;o|ooo|^^^^^^.^^;|o|^.  .^;ooo^.  ^***++o^^^^;^^^;o|ooo++******+++******%%%%%%%%%%%\n",
       "^^^..  .....^^;o++o||;^^^^^;|||^^... ..;|ooo|^^.^^o%#+|^^^^;;;^.^|ooo+++++*++*+**%%%%%%%%%%%%%%%%%\n",
       "^^^..   ....^^;o+ooo;^^;;||o+;^^^^^^. ..^|oo;;^^^;o%%o;;^^^;|;;^^^;|;;|oo+******%%%%%%%%%%%%%%%%%%\n",
       "^^^..   ....^^;|ooo|;;||;o+o|;;;^^^^^ .^;;;;^^^^;o*##o;^;;^^^^^^^;|o|oo+++++++++**%%%%%%%%%%%%%%%%\n",
       "^^^..   ....^^^|o|||||++++++o|;;^.^.^  .^||;^^^;o*##%+;;;;;;;;;^^^|oo||oo+**%%%***++****%%%%%%%%%%\n",
       "^^^..   ...^^^;ooo;;o++++*+o;||;..^^^^.^^;;^^;|ooo+%*+o;;;;;;;;^;^^^^^^;|o+*%%%*%%%%%%************\n",
       "^^^..   ....^^;|+o||o+o++|||||^^^^^;;;^^^^;;+||++oo+oo+o;;;;;;;^^;|||;^^;|o+*%%%%%%%%%%**%%%%%%%%%\n",
       "^^^..   ....^^;|oooo|;||oooo|;|^^;;|oo++;o*|%;|%#%****+|||;;;;;;;;;|o++oo||o++********%%%%%%%%%%%%\n",
       "^;^^.  .....^^^;o+o|||ooooo|||;;;;|++***++%*#|o######%*;|+|;;;;^;;;;|o+*++ooo++*****%%%%%%%%%%%%%%\n",
       "^;^^........^^^^;|o+o|o+++++||o|;^o%*****%%#%++###%%##%^|++|;;;;;;|o|o+***++o+*+********%%%%%%%%%%\n",
       ";;^^........^^^;|;oo++|ooo+oo||;;^+%%*%**%#%%+*##%**%%%^*o++o||;;;||o+++***++++**%%*********%%%%%%\n",
       ";;^^........^^^^;;|o++o;|ooooo||;^o%%%%*%##%*+*%#%*+%%%*%**+++o;;;|||o++++***+++*%*%%%%%%******%%%\n",
       ";;^^.......^^^^^;;;;|oo*++**+o|;|^|+%##%##%%*o*%#%*+%#%%%%%*+++;;;|oooo+*********%%*%#%%%####%%%%%\n",
       ";;^^.......^^^^^^;;;;|+++*++o||;;.;o%####%%*+|*%%%*+%##%%%%***+;;||o|ooo++++*****%%#*%%%%###%%%%%#\n",
       ";;^^.......^^^^;;;;;;|o++++oo||;^.^o+##++*%*o;+%%**+%##%%%***+o;|oooooooo++******%%%#%%%%%%%%%%%%%\n",
       ";;;^........^^^^;;^;|ooo++*+ooo|^.^;o*#+o+%*o^o%%%*+%#%%%%**+o|||ooo+++++o+++****%####%#%%%%%%%%%%\n",
       ";;;^.......^^^^^;;|||o++o+++*+o;;^^^;o*+;o%%+^|*%**+%#%%%%*+oo;|oooo+ooo++o****+*%####%%#%%%%%%%%%\n",
       ";;;^.......^^^^^^;;|ooo++o++*++|^^^^.^o+o^%%*^;*%**o%%**%*++o|||oo++++++++*+******%####%###%%%%%%%\n",
       ";;;^.......^^^;;^^^;oooo++++++o|;^.  .;o+;*#%|^+%%*+%%*%*+oo|||o+**%%%***++++******#####%##%%%###%\n",
       ";;;^.......^^^;;;^.^;||oooo++oo|;^.    |o+o%%o;o%%*+%***+oo|;||o+++++**++++oo+***%%%####%####%%###\n",
       ";;;^.......^^;||;^..^;;|||||||;^^..    .||o**o;o%%*+%**+o|||||oooo+++++++++++++***%#%#########%%##\n",
       ";;;^^......^^|||;^. ..^^;;^^.^^....     ^+|++ooo%%*o++oo||;;|||oooooooo++++++++*%%%##%#########%##\n",
       ";;;^^......^;|||;^^.  ..^^.. ......      ||o.++o*%*+oooo|;;;|||||||||ooo+++++++***%######%########\n",
       ";;;^^......^;||||;;^          .....      |+| |++**+||oo|;;;||||||;;;||oooo+++++***%%###%%%########\n",
       "^;;^^......^;||o||;;^.       ....        .;o.^o**+;^+o|;;;|||||||;;;;;|||ooo+++***%#####%%########\n",
       "^^^^^......^;||oo|||;^     ...    ...     .o+*%%**+++o;;;||||||;;;;;;;;;|||o+++***%%#####%########\n",
       "^^.........^;;||ooo|;;.          .....     ;+%#####%*|;;||||||;;;;;;;;;;;||oo++***%%######%#######\n",
       ";;;^^......^;;|oooo||||^.        ......     ^;o****+|;;||||||||;;;;;;;||||||o+****%%%######%######\n",
       "|||||;^^...^;||o++oo|o||^       .........   .^;|ooo|;;||||||||||;;;;|||||||||o*****#########%#####\n",
       "||||||o||;^^;||o+++oooo|^.      ......^...   ^;||||;;||||||||||||||||||||;;;;o+***%%##############\n",
       "||||||ooooo|oooo+++o;^^^^.      .......^^..  .^;;;;;|||||||||||||||||||;;;;;||o+**%%%%############\n",
       "|ooooooooooo+*+o+++|^....       .....^^^^^^...^^;;;|||||||||||||o||||;;;;;;;|o+***%#%########%####\n",
       "|||oooo++++++%*++++o;^..        ....^^^^^^^^^^^^^;;;;|||||||||o|o|||;;;;;;;||o++*%%#%%############</pre>"
      ],
      "text/plain": [
       "<IPython.core.display.HTML object>"
      ]
     },
     "execution_count": 47,
     "metadata": {},
     "output_type": "execute_result"
    }
   ],
   "source": [
    "to_html(dot_transform(image_transform(image_read('cat.jpg'), 10, 10), DOT_DICTIONARY))"
   ]
  },
  {
   "cell_type": "code",
   "execution_count": 53,
   "metadata": {},
   "outputs": [
    {
     "data": {
      "text/html": [
       "<pre style=\"font-family: monospace; line-height: 10px;\">|||;|||||;|;;;;;;;;;;;;;;;;;;;;;;;;;;;;;;;;;;;;;;;;;;;;;;;;;;;;;;;;;;;;;;;;\n",
       ";;;;;;;;;;;;;;;;;;;;;;;;;;;;;;;;;;;;;;;;;;;;;;;;;;;;;;;;;;;;;;;;;;;;;;;;;;;\n",
       ";;;;;;;;;;;;;;;;;;;;;;;;;;;;;;;;;;;;;;;;;;;;;;;;;;;;;;;;;;;;;^;;;;;;;;;;;;;\n",
       ";;;;;;;;;;;;;;;;;;;;;;;;;;;;;;;;;;;;;^;;^;;^^^^;^;;^;;;;^^;^^^^;;;^^^^^^^^^\n",
       ";;;;;;;;;;;;;;;;;;;;;;;;;^^^^^^^^^;;^^^^^^^^;^^^;^^^^^;;^;;;^^^^^^^^;;^^^^^\n",
       ";;;;;;;;;;;;;;;;;;;;;;;;^^^;;^^^^^^^^^^^^^^^^^;^^^;^^^^^^^^^^^^^^^^^^^^^^^^\n",
       "^^;;^^^^^;;;|||||^;;;;^^^^^^^^^^^^^^^^^^^^^^^^^^^^^^^^^^^^^^^^^^^^^^^^^^^^^\n",
       ";;||||oooo+++oo++|^;^^^^^^^^^^^^^^^^^^^^^^^;|;;;;;;;^^^^^^^^^^^^^^^^^^^^^^^\n",
       "ooooooooo++++++***|^^^^^^^^^^^^^^^^^^^^^^;|^.......^;;^^^^^^^^^^^^^^^^^^^^^\n",
       "++++++++*+*****%%**|^^^^^^^^^^^^^^^^^^^^;;...;|......^;^^^^^^^^^^^^^^^^^^^^\n",
       "**++*****++++++*%%**|^^^^^^^^^^^^^^^^^^^^...|*+^.^....^;^^^^^^^^^^^^^^^^^^^\n",
       "+++++o+++++++++%*%%%*|^^^^^^^^^^^^^^^^^;...|***;..;..^.^^^^^^^^^^^^^^^^^^^^\n",
       "++++++++++++o++%%*%%**o^^^^^^^^^^^^^^^^^||o****;|^^^.^^.;^..^.............^\n",
       "++++++++++*++++#%%*%%%*o^^^.^^^^^^..^^;^***+o||;||;;.^..;;................^\n",
       "*+++++++**+++*+#**%**%%*o^...........^^^**|^.;^||^;|^^^^||^..........^^^^;;\n",
       "oooooooo***++++#%**%*%%%*|...........;..||^;.|^|;..^|.;;;|;^;||||||oooooooo\n",
       "|||||ooo+++++++##%**%**%+;...........;..^^^|.;;^....|^;^;|;oooo++++***%%###\n",
       "|||||ooo+++++++#%%%**%%+;............;.^^;;|.^...;^.^^;^||^o##############%\n",
       "|||||oooooo++++#%*%%**%o^............;^;||^|^...;oo|.|;.|||^+%%%%%%*%******\n",
       "|||||oooooo++++#%***%%#o............^^;|||.^....|^...|;^|||^;o*************\n",
       "|||||oooooo++++#%****%#o............^;;;|^.^.........|^^|||;^^o************\n",
       "||ooooooooo++++#%****%#|............;;;^|.^oo........;^.||||^;^o***********\n",
       "||ooooooooo++++#%****%#o............;^|;|^||.........;^^||||;^|^+**********\n",
       "||ooooooooo++++#%****%#o............;^||^|.......^...|^;|||||^o|^++++++++++\n",
       "||ooooooooo++++#%****%#|............;||||^|....^|||..|.|||||||^o||ooooooooo\n",
       "||ooooooooo++++#%****%#|...........^^|||||^|...||||.^|.|||||||^|o;|oooooooo\n",
       "|oooooooooo++++#%****%#|...........;||||o|;^|^.^|||.|^;o|||||||;o||oooooooo\n",
       "ooooooooooo++++#%****%#|...........;|||||||;;|......|^||o|;;;||;oo|oooooooo\n",
       "oooooooooo+++++#%****%#|...........;||||||||^;||;^^+|^o|^^o++||||o;|||||||o\n",
       "oooooooooo+++++#%****%%|..........^;|||||||||^|o%%%o||o||*****o||||||||||||\n",
       "oooooooooo+++++#%****%%|...........|||||o|||o;;ooo|o;o|;******+||||||||||||\n",
       "oooooooooo+++++#%****%#|..   .....^|^..;||o|o|;|o||o||.+******+||;|||||||||\n",
       "oooooooooo+++++#%****%#|........^^......^ .||o|o|||o|^|%*******||||||||||||\n",
       "oooooooooo+++++#%****%#|.....^^;.....^||.  .++|o|||oo;**%****%%|o||||||||||\n",
       "oooooooooo+++++#%****%#|.. .;;||..^;|||^ . .***+ooo||+********%oo|;;;;;;;;;\n",
       "oo+ooooooo+++++#%****%%|..^;;;;|||||;||.^. |%***+|||^**%**%%*%#oo|;;;;;;;;;\n",
       "++++oooooo+++*+#%****%%|..^;||;^;|^^^;|.|^^%*******++%**%*%%%##oo;;;;;;;;;;\n",
       "++++oooooo+++++#%****%%|..      ....;.|^^.+%********%#%*%%*%##%oo|;;;;;;;;;\n",
       "++++oooooo+++++#%****%#|...         ..oo.|*******%*%*%%%%%####*o|o;;;;;;;;;\n",
       "oooooooooo+++++#%****%%|..           .+*++*+oo**%*%**%%%%#####+|;||;;;;;;;;\n",
       "ooooooooooo++++#%****%%|.       ..   ^*****;..^o*******%######o;;;;;;;;;;;;\n",
       "ooooooooooo++++#%****%%|.      ....  |***+|....^^+%***%#######|;;^;;;;;;;;;\n",
       "+ooo+ooooo+++++#%****%%|.     .     .+**%;;...^.^|#%%%#######*;;^^^^^;;;;;;\n",
       "+++++oooo++++++#%****%#|.           |***;.|^..^.^^%##########o^^^^;;;;;;;;|\n",
       "****+++++++++++#%****%#|.  ..      .+%%*. ;|;^|^^;o##########+ooo++++++++++\n",
       "%%%*+++++++++++#%****%#|. ....     |*%*%^  ^||;|;;o#########+||;;;^^^^.....\n",
       "****++++oo+++++#%****%#|. .        |****|  .;^|oo+#######%%%|              \n",
       "***++ooooo+++++#%****%#|.          |*****o|^|;^%#######%%***.              \n",
       "*+++oooooo+++++#%****%#|. .........^******#%|;*######%%*%**o               \n",
       "++++oooooo+++++#%****%#|. ....^.^;;.+****%###%#####%%***%**|               \n",
       "+++ooooooo+++++#%****%#|   .^.^^^;^ |***o|##%%%%%%%%%%%****.               \n",
       "+++oooo++++++++#%****%%|   .^.^^;;^  ;|;..*%%%%**%%%%%****o                \n",
       "ooooooo++*+++++#%****%%|   .^^^^;|^....  |%%%*%%%*%%******|                \n",
       "+oooooo++*+++**#%****%%|..^^^^^^|||^^^..^**%%*%%%%%%******^                \n",
       "+oooooo++++++++#%%%%%%#| .^. . .^;;;^^^^+*%%%%%%*%*%******.                \n",
       "+++++++++++++++%***%%%#|..^....^^;;;;;^o%%%%%%%%%*%*%*%**+                 \n",
       "ooooooo+++++ooo*%*****%|.^|;;;;;;|||||o%%%%%%%%*%%%%%%***+              .  \n",
       "+++++++++++*+++%%%%%%%%o..;^^^;^;|||||*%%%%%%%%%%%%%%%***o            ..^..\n",
       "oooooooooo+*oo+%%%%%%%%o..;^;^;;;||||+%%%%%%%%%%%%%%%%**%o............. .^^\n",
       "oooooooooo+*oo+%%%%%%%%o|||;;^;;;||o*%##%%%%%%%%%%%%*%%%#*ooooooo+|ooo. ..|\n",
       "++++++++++++oo+%*****%%%**o|;;|||||%%%%##%%#%%%%%%%%%%##%*********o|+|   .;\n",
       "+++****+++++oo+%*****%%%**+|;;||||o%%%%##%%#%%%%##%%%##%***+++++++o..    .^\n",
       "ooo++oooo++*oo+%*****%%%+++||||||o%%#%%%#%%%#%*%%%%%##%%%%*+++++;|o;..  .^;\n",
       "oooooooooo++oo+%*****%%%+++o|||||*%%%%%%%%%%%*%%%%%%#%%%%%*+++++^^oo;....^|\n",
       "oooooooooo++oo+%*****%%%++++||||o%%%%%%%%%%%%%%%%%%%%%%%%%%++++o.^|+o;;;;||\n",
       "+***********oo+%****%%#%++++o||o%%%%%%%%%%%%%%%%%%%%%%%%%%%+++*+^;o++||||||\n",
       "+++*++++++*+oo+%********++++ooo+%%%%%##%%%%%%%%%#%#%%%%%%%%+++++oo++++ooooo\n",
       "oooooooooo+*oo+%%**************%%#%%####%%%%######%%##%%%%#****************\n",
       "oooooooooo++oo+%%*%++++++++++++############################++++++++++++++++\n",
       "oo++++++++++oo+%%%#*+++*%*****%############################%****%%%***%%%**</pre>"
      ],
      "text/plain": [
       "<IPython.core.display.HTML object>"
      ]
     },
     "metadata": {},
     "output_type": "display_data"
    }
   ],
   "source": [
    "gif = gif_transform('dance.gif', 8, 10, DOT_DICTIONARY)\n",
    "for _ in range(1):\n",
    "    for pic in gif:\n",
    "        clear_output(wait=True)\n",
    "        display(to_html(pic))\n",
    "        time.sleep(0.1)"
   ]
  },
  {
   "cell_type": "code",
   "execution_count": 55,
   "metadata": {},
   "outputs": [
    {
     "data": {
      "image/png": "[encoded data removed]",
      "text/plain": [
       "<Figure size 2880x2880 with 1 Axes>"
      ]
     },
     "metadata": {
      "needs_background": "light"
     },
     "output_type": "display_data"
    }
   ],
   "source": [
    "show_image(image_transform(image_read('anime.jpg'), 8, 10))"
   ]
  }
 ],
 "metadata": {
  "kernelspec": {
   "display_name": "Python 3",
   "language": "python",
   "name": "python3"
  },
  "language_info": {
   "codemirror_mode": {
    "name": "ipython",
    "version": 3
   },
   "file_extension": ".py",
   "mimetype": "text/x-python",
   "name": "python",
   "nbconvert_exporter": "python",
   "pygments_lexer": "ipython3",
   "version": "3.7.4"
  }
 },
 "nbformat": 4,
 "nbformat_minor": 2
}
